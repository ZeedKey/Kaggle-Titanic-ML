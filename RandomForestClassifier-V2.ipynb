{
  "nbformat": 4,
  "nbformat_minor": 0,
  "metadata": {
    "colab": {
      "name": "RF.ipynb",
      "provenance": [],
      "collapsed_sections": [],
      "authorship_tag": "ABX9TyNSghCoJslzHr0+YIdJlCLr",
      "include_colab_link": true
    },
    "kernelspec": {
      "name": "python3",
      "display_name": "Python 3"
    },
    "language_info": {
      "name": "python"
    }
  },
  "cells": [
    {
      "cell_type": "markdown",
      "metadata": {
        "id": "view-in-github",
        "colab_type": "text"
      },
      "source": [
        "<a href=\"https://colab.research.google.com/github/ZeedKey/RandomForestClassifier/blob/main/RF.ipynb\" target=\"_parent\"><img src=\"https://colab.research.google.com/assets/colab-badge.svg\" alt=\"Open In Colab\"/></a>"
      ]
    },
    {
      "cell_type": "code",
      "metadata": {
        "id": "YEKAII8lH9PU"
      },
      "source": [
        "import numpy as np\n",
        "import pandas as pd\n",
        "from sklearn.ensemble import RandomForestClassifier\n",
        "from sklearn.model_selection import GridSearchCV\n",
        "import seaborn as sns\n",
        "\n",
        "from sklearn.metrics import accuracy_score\n",
        "from sklearn.model_selection import train_test_split\n",
        "\n",
        "train_data = pd.read_csv(\"/content/train.csv\")\n",
        "test_data = pd.read_csv(\"/content/test.csv\")"
      ],
      "execution_count": 611,
      "outputs": []
    },
    {
      "cell_type": "code",
      "metadata": {
        "id": "sPygFOMUH6D1"
      },
      "source": [
        "from sklearn.model_selection import GridSearchCV"
      ],
      "execution_count": 612,
      "outputs": []
    },
    {
      "cell_type": "code",
      "metadata": {
        "colab": {
          "base_uri": "https://localhost:8080/",
          "height": 297
        },
        "id": "LrOg3qMMx2kc",
        "outputId": "053892e3-acf0-44c2-bcb4-05d08c93e0d6"
      },
      "source": [
        "train_data.describe()"
      ],
      "execution_count": 613,
      "outputs": [
        {
          "output_type": "execute_result",
          "data": {
            "text/html": [
              "<div>\n",
              "<style scoped>\n",
              "    .dataframe tbody tr th:only-of-type {\n",
              "        vertical-align: middle;\n",
              "    }\n",
              "\n",
              "    .dataframe tbody tr th {\n",
              "        vertical-align: top;\n",
              "    }\n",
              "\n",
              "    .dataframe thead th {\n",
              "        text-align: right;\n",
              "    }\n",
              "</style>\n",
              "<table border=\"1\" class=\"dataframe\">\n",
              "  <thead>\n",
              "    <tr style=\"text-align: right;\">\n",
              "      <th></th>\n",
              "      <th>PassengerId</th>\n",
              "      <th>Survived</th>\n",
              "      <th>Pclass</th>\n",
              "      <th>Age</th>\n",
              "      <th>SibSp</th>\n",
              "      <th>Parch</th>\n",
              "      <th>Fare</th>\n",
              "    </tr>\n",
              "  </thead>\n",
              "  <tbody>\n",
              "    <tr>\n",
              "      <th>count</th>\n",
              "      <td>891.000000</td>\n",
              "      <td>891.000000</td>\n",
              "      <td>891.000000</td>\n",
              "      <td>714.000000</td>\n",
              "      <td>891.000000</td>\n",
              "      <td>891.000000</td>\n",
              "      <td>891.000000</td>\n",
              "    </tr>\n",
              "    <tr>\n",
              "      <th>mean</th>\n",
              "      <td>446.000000</td>\n",
              "      <td>0.383838</td>\n",
              "      <td>2.308642</td>\n",
              "      <td>29.699118</td>\n",
              "      <td>0.523008</td>\n",
              "      <td>0.381594</td>\n",
              "      <td>32.204208</td>\n",
              "    </tr>\n",
              "    <tr>\n",
              "      <th>std</th>\n",
              "      <td>257.353842</td>\n",
              "      <td>0.486592</td>\n",
              "      <td>0.836071</td>\n",
              "      <td>14.526497</td>\n",
              "      <td>1.102743</td>\n",
              "      <td>0.806057</td>\n",
              "      <td>49.693429</td>\n",
              "    </tr>\n",
              "    <tr>\n",
              "      <th>min</th>\n",
              "      <td>1.000000</td>\n",
              "      <td>0.000000</td>\n",
              "      <td>1.000000</td>\n",
              "      <td>0.420000</td>\n",
              "      <td>0.000000</td>\n",
              "      <td>0.000000</td>\n",
              "      <td>0.000000</td>\n",
              "    </tr>\n",
              "    <tr>\n",
              "      <th>25%</th>\n",
              "      <td>223.500000</td>\n",
              "      <td>0.000000</td>\n",
              "      <td>2.000000</td>\n",
              "      <td>20.125000</td>\n",
              "      <td>0.000000</td>\n",
              "      <td>0.000000</td>\n",
              "      <td>7.910400</td>\n",
              "    </tr>\n",
              "    <tr>\n",
              "      <th>50%</th>\n",
              "      <td>446.000000</td>\n",
              "      <td>0.000000</td>\n",
              "      <td>3.000000</td>\n",
              "      <td>28.000000</td>\n",
              "      <td>0.000000</td>\n",
              "      <td>0.000000</td>\n",
              "      <td>14.454200</td>\n",
              "    </tr>\n",
              "    <tr>\n",
              "      <th>75%</th>\n",
              "      <td>668.500000</td>\n",
              "      <td>1.000000</td>\n",
              "      <td>3.000000</td>\n",
              "      <td>38.000000</td>\n",
              "      <td>1.000000</td>\n",
              "      <td>0.000000</td>\n",
              "      <td>31.000000</td>\n",
              "    </tr>\n",
              "    <tr>\n",
              "      <th>max</th>\n",
              "      <td>891.000000</td>\n",
              "      <td>1.000000</td>\n",
              "      <td>3.000000</td>\n",
              "      <td>80.000000</td>\n",
              "      <td>8.000000</td>\n",
              "      <td>6.000000</td>\n",
              "      <td>512.329200</td>\n",
              "    </tr>\n",
              "  </tbody>\n",
              "</table>\n",
              "</div>"
            ],
            "text/plain": [
              "       PassengerId    Survived      Pclass  ...       SibSp       Parch        Fare\n",
              "count   891.000000  891.000000  891.000000  ...  891.000000  891.000000  891.000000\n",
              "mean    446.000000    0.383838    2.308642  ...    0.523008    0.381594   32.204208\n",
              "std     257.353842    0.486592    0.836071  ...    1.102743    0.806057   49.693429\n",
              "min       1.000000    0.000000    1.000000  ...    0.000000    0.000000    0.000000\n",
              "25%     223.500000    0.000000    2.000000  ...    0.000000    0.000000    7.910400\n",
              "50%     446.000000    0.000000    3.000000  ...    0.000000    0.000000   14.454200\n",
              "75%     668.500000    1.000000    3.000000  ...    1.000000    0.000000   31.000000\n",
              "max     891.000000    1.000000    3.000000  ...    8.000000    6.000000  512.329200\n",
              "\n",
              "[8 rows x 7 columns]"
            ]
          },
          "metadata": {},
          "execution_count": 613
        }
      ]
    },
    {
      "cell_type": "markdown",
      "metadata": {
        "id": "pvAmAnOZnmyg"
      },
      "source": [
        "**Honorific extraction**"
      ]
    },
    {
      "cell_type": "code",
      "metadata": {
        "id": "NDVRzjHH16Nz"
      },
      "source": [
        "names_list = list(train_data['Name'].values)"
      ],
      "execution_count": 642,
      "outputs": []
    },
    {
      "cell_type": "code",
      "metadata": {
        "id": "hveCaJCwjX_y"
      },
      "source": [
        "names_list = [name.split() for name in names_list]\n",
        "honor_list = []\n",
        "honors = ['Mrs.','Mr.','Master.','Don.',\n",
        "          'Rev.','Dr.','Ms.','Major.',\n",
        "          'Col.', 'Miss.']"
      ],
      "execution_count": 643,
      "outputs": []
    },
    {
      "cell_type": "markdown",
      "metadata": {
        "id": "XrBIWnB4sy4v"
      },
      "source": [
        "**Important! <br>**\n",
        "**Incorrect or missing honorifics are replaced with NaNs**"
      ]
    },
    {
      "cell_type": "code",
      "metadata": {
        "id": "hgMFeNnvspr_"
      },
      "source": [
        "for name in names_list:\n",
        "  tmp = 'NaN'\n",
        "  for part in name:\n",
        "    part.strip()\n",
        "    if part in honors:\n",
        "      tmp=part\n",
        "  honor_list.append(tmp)"
      ],
      "execution_count": 644,
      "outputs": []
    },
    {
      "cell_type": "code",
      "metadata": {
        "colab": {
          "base_uri": "https://localhost:8080/",
          "height": 173
        },
        "id": "Y-hcZfeukz9M",
        "outputId": "27642e64-0a59-4d35-f532-eb2a56e82f53"
      },
      "source": [
        "honor_list = pd.DataFrame(honor_list)\n",
        "honor_list.describe()"
      ],
      "execution_count": 645,
      "outputs": [
        {
          "output_type": "execute_result",
          "data": {
            "text/html": [
              "<div>\n",
              "<style scoped>\n",
              "    .dataframe tbody tr th:only-of-type {\n",
              "        vertical-align: middle;\n",
              "    }\n",
              "\n",
              "    .dataframe tbody tr th {\n",
              "        vertical-align: top;\n",
              "    }\n",
              "\n",
              "    .dataframe thead th {\n",
              "        text-align: right;\n",
              "    }\n",
              "</style>\n",
              "<table border=\"1\" class=\"dataframe\">\n",
              "  <thead>\n",
              "    <tr style=\"text-align: right;\">\n",
              "      <th></th>\n",
              "      <th>0</th>\n",
              "    </tr>\n",
              "  </thead>\n",
              "  <tbody>\n",
              "    <tr>\n",
              "      <th>count</th>\n",
              "      <td>891</td>\n",
              "    </tr>\n",
              "    <tr>\n",
              "      <th>unique</th>\n",
              "      <td>11</td>\n",
              "    </tr>\n",
              "    <tr>\n",
              "      <th>top</th>\n",
              "      <td>Mr.</td>\n",
              "    </tr>\n",
              "    <tr>\n",
              "      <th>freq</th>\n",
              "      <td>517</td>\n",
              "    </tr>\n",
              "  </tbody>\n",
              "</table>\n",
              "</div>"
            ],
            "text/plain": [
              "          0\n",
              "count   891\n",
              "unique   11\n",
              "top     Mr.\n",
              "freq    517"
            ]
          },
          "metadata": {},
          "execution_count": 645
        }
      ]
    },
    {
      "cell_type": "markdown",
      "metadata": {
        "id": "l8p4r1fftzYu"
      },
      "source": [
        "**Adding new column named 'Honorific'**\n"
      ]
    },
    {
      "cell_type": "code",
      "metadata": {
        "id": "1bi6CL0wloyF"
      },
      "source": [
        "train_data['Honorific'] = honor_list"
      ],
      "execution_count": 646,
      "outputs": []
    },
    {
      "cell_type": "markdown",
      "metadata": {
        "id": "yetR6ggMw_IE"
      },
      "source": [
        "**Honorific is a valuable feature**"
      ]
    },
    {
      "cell_type": "code",
      "metadata": {
        "colab": {
          "base_uri": "https://localhost:8080/",
          "height": 296
        },
        "id": "f0g9QRQhmU32",
        "outputId": "e9a4f167-77c4-4ed9-9b79-55b943564415"
      },
      "source": [
        "sns.histplot(data=train_data, x='Honorific', hue=\"Survived\")"
      ],
      "execution_count": 619,
      "outputs": [
        {
          "output_type": "execute_result",
          "data": {
            "text/plain": [
              "<matplotlib.axes._subplots.AxesSubplot at 0x7f433e9bf450>"
            ]
          },
          "metadata": {},
          "execution_count": 619
        },
        {
          "output_type": "display_data",
          "data": {
            "image/png": "[encoded data removed]",
            "text/plain": [
              "<Figure size 432x288 with 1 Axes>"
            ]
          },
          "metadata": {
            "needs_background": "light"
          }
        }
      ]
    },
    {
      "cell_type": "markdown",
      "metadata": {
        "id": "f4I_kdut77k9"
      },
      "source": [
        "**Adding new feature named 'MoreTwoSibSp'**"
      ]
    },
    {
      "cell_type": "code",
      "metadata": {
        "colab": {
          "base_uri": "https://localhost:8080/",
          "height": 296
        },
        "id": "6w0PV6d7m0Pf",
        "outputId": "13bdf342-17bc-4bfa-fa71-7f92d255233a"
      },
      "source": [
        "more_two = train_data[ train_data['SibSp']>2 ]\n",
        "sns.histplot(data=more_two, x='Survived', hue='SibSp')"
      ],
      "execution_count": 620,
      "outputs": [
        {
          "output_type": "execute_result",
          "data": {
            "text/plain": [
              "<matplotlib.axes._subplots.AxesSubplot at 0x7f433e949f50>"
            ]
          },
          "metadata": {},
          "execution_count": 620
        },
        {
          "output_type": "display_data",
          "data": {
            "image/png": "[encoded data removed]",
            "text/plain": [
              "<Figure size 432x288 with 1 Axes>"
            ]
          },
          "metadata": {
            "needs_background": "light"
          }
        }
      ]
    },
    {
      "cell_type": "code",
      "metadata": {
        "id": "g0iYGd9x8Mpo"
      },
      "source": [
        "train_data['MoreTwoSibSp'] = (train_data['SibSp']>2).astype(int)"
      ],
      "execution_count": 621,
      "outputs": []
    },
    {
      "cell_type": "markdown",
      "metadata": {
        "id": "pR5A52MuB1XZ"
      },
      "source": [
        "**Fare is a valuable feature**"
      ]
    },
    {
      "cell_type": "code",
      "metadata": {
        "colab": {
          "base_uri": "https://localhost:8080/",
          "height": 296
        },
        "id": "9SJLtmPvB0Z2",
        "outputId": "3e1eb59e-5ba4-4ee5-f7e0-18e441ada4fa"
      },
      "source": [
        "sns.histplot( data=train_data[ train_data['Fare']>250],x='Survived', bins=30)"
      ],
      "execution_count": 622,
      "outputs": [
        {
          "output_type": "execute_result",
          "data": {
            "text/plain": [
              "<matplotlib.axes._subplots.AxesSubplot at 0x7f433e824250>"
            ]
          },
          "metadata": {},
          "execution_count": 622
        },
        {
          "output_type": "display_data",
          "data": {
            "image/png": "[encoded data removed]",
            "text/plain": [
              "<Figure size 432x288 with 1 Axes>"
            ]
          },
          "metadata": {
            "needs_background": "light"
          }
        }
      ]
    },
    {
      "cell_type": "markdown",
      "metadata": {
        "id": "uG44RyosABWq"
      },
      "source": [
        "**Creating new features 'isExp', 'isCheap'**<br>\n",
        "___________________\n",
        "**So in the context expensive price of a ticket starts from 250 dollars and the cheapest tickets are priced below 10 dollars.**\n"
      ]
    },
    {
      "cell_type": "code",
      "metadata": {
        "colab": {
          "base_uri": "https://localhost:8080/",
          "height": 296
        },
        "id": "n1PA4Ezx84l1",
        "outputId": "41d8b84a-3738-48c5-de19-04e40402bb9d"
      },
      "source": [
        "sns.histplot( data=train_data[ train_data['Fare']>250],x='Survived')"
      ],
      "execution_count": 623,
      "outputs": [
        {
          "output_type": "execute_result",
          "data": {
            "text/plain": [
              "<matplotlib.axes._subplots.AxesSubplot at 0x7f433e7e5610>"
            ]
          },
          "metadata": {},
          "execution_count": 623
        },
        {
          "output_type": "display_data",
          "data": {
            "image/png": "[encoded data removed]",
            "text/plain": [
              "<Figure size 432x288 with 1 Axes>"
            ]
          },
          "metadata": {
            "needs_background": "light"
          }
        }
      ]
    },
    {
      "cell_type": "code",
      "metadata": {
        "colab": {
          "base_uri": "https://localhost:8080/",
          "height": 296
        },
        "id": "dnDQrnvmCQoR",
        "outputId": "60059484-51bb-4a1f-e5d8-c3a33978bb3e"
      },
      "source": [
        "sns.histplot( data=train_data[ train_data['Fare']<=10],x='Survived')"
      ],
      "execution_count": 624,
      "outputs": [
        {
          "output_type": "execute_result",
          "data": {
            "text/plain": [
              "<matplotlib.axes._subplots.AxesSubplot at 0x7f433e74d650>"
            ]
          },
          "metadata": {},
          "execution_count": 624
        },
        {
          "output_type": "display_data",
          "data": {
            "image/png": "[encoded data removed]",
            "text/plain": [
              "<Figure size 432x288 with 1 Axes>"
            ]
          },
          "metadata": {
            "needs_background": "light"
          }
        }
      ]
    },
    {
      "cell_type": "code",
      "metadata": {
        "id": "9K508BaMCept"
      },
      "source": [
        "train_data['isExp'] = (train_data['Fare']>250).astype(int)\n",
        "train_data['isCheap'] = (train_data['Fare']<10).astype(int)"
      ],
      "execution_count": 625,
      "outputs": []
    },
    {
      "cell_type": "code",
      "metadata": {
        "colab": {
          "base_uri": "https://localhost:8080/",
          "height": 296
        },
        "id": "HKlclmPzEjP2",
        "outputId": "e499f7b5-e806-4f1e-f1d2-da26bb9f6eb8"
      },
      "source": [
        "sns.histplot( data=train_data[ train_data['Age']>10], x='SibSp', hue='Survived', bins=20)"
      ],
      "execution_count": 626,
      "outputs": [
        {
          "output_type": "execute_result",
          "data": {
            "text/plain": [
              "<matplotlib.axes._subplots.AxesSubplot at 0x7f433e6cc550>"
            ]
          },
          "metadata": {},
          "execution_count": 626
        },
        {
          "output_type": "display_data",
          "data": {
            "image/png": "[encoded data removed]",
            "text/plain": [
              "<Figure size 432x288 with 1 Axes>"
            ]
          },
          "metadata": {
            "needs_background": "light"
          }
        }
      ]
    },
    {
      "cell_type": "markdown",
      "metadata": {
        "id": "HDN7957EJTP9"
      },
      "source": [
        "**Preparing train data for model**"
      ]
    },
    {
      "cell_type": "code",
      "metadata": {
        "colab": {
          "base_uri": "https://localhost:8080/",
          "height": 496
        },
        "id": "Tz3vjqL5JSwn",
        "outputId": "f1c9b59a-f6ab-4a92-e681-b568e5f2c9ef"
      },
      "source": [
        "train_data.head()"
      ],
      "execution_count": 627,
      "outputs": [
        {
          "output_type": "execute_result",
          "data": {
            "text/html": [
              "<div>\n",
              "<style scoped>\n",
              "    .dataframe tbody tr th:only-of-type {\n",
              "        vertical-align: middle;\n",
              "    }\n",
              "\n",
              "    .dataframe tbody tr th {\n",
              "        vertical-align: top;\n",
              "    }\n",
              "\n",
              "    .dataframe thead th {\n",
              "        text-align: right;\n",
              "    }\n",
              "</style>\n",
              "<table border=\"1\" class=\"dataframe\">\n",
              "  <thead>\n",
              "    <tr style=\"text-align: right;\">\n",
              "      <th></th>\n",
              "      <th>PassengerId</th>\n",
              "      <th>Survived</th>\n",
              "      <th>Pclass</th>\n",
              "      <th>Name</th>\n",
              "      <th>Sex</th>\n",
              "      <th>Age</th>\n",
              "      <th>SibSp</th>\n",
              "      <th>Parch</th>\n",
              "      <th>Ticket</th>\n",
              "      <th>Fare</th>\n",
              "      <th>Cabin</th>\n",
              "      <th>Embarked</th>\n",
              "      <th>Honorific</th>\n",
              "      <th>MoreTwoSibSp</th>\n",
              "      <th>isExp</th>\n",
              "      <th>isCheap</th>\n",
              "    </tr>\n",
              "  </thead>\n",
              "  <tbody>\n",
              "    <tr>\n",
              "      <th>0</th>\n",
              "      <td>1</td>\n",
              "      <td>0</td>\n",
              "      <td>3</td>\n",
              "      <td>Braund, Mr. Owen Harris</td>\n",
              "      <td>male</td>\n",
              "      <td>22.0</td>\n",
              "      <td>1</td>\n",
              "      <td>0</td>\n",
              "      <td>A/5 21171</td>\n",
              "      <td>7.2500</td>\n",
              "      <td>NaN</td>\n",
              "      <td>S</td>\n",
              "      <td>Mr.</td>\n",
              "      <td>0</td>\n",
              "      <td>0</td>\n",
              "      <td>1</td>\n",
              "    </tr>\n",
              "    <tr>\n",
              "      <th>1</th>\n",
              "      <td>2</td>\n",
              "      <td>1</td>\n",
              "      <td>1</td>\n",
              "      <td>Cumings, Mrs. John Bradley (Florence Briggs Th...</td>\n",
              "      <td>female</td>\n",
              "      <td>38.0</td>\n",
              "      <td>1</td>\n",
              "      <td>0</td>\n",
              "      <td>PC 17599</td>\n",
              "      <td>71.2833</td>\n",
              "      <td>C85</td>\n",
              "      <td>C</td>\n",
              "      <td>Mrs.</td>\n",
              "      <td>0</td>\n",
              "      <td>0</td>\n",
              "      <td>0</td>\n",
              "    </tr>\n",
              "    <tr>\n",
              "      <th>2</th>\n",
              "      <td>3</td>\n",
              "      <td>1</td>\n",
              "      <td>3</td>\n",
              "      <td>Heikkinen, Miss. Laina</td>\n",
              "      <td>female</td>\n",
              "      <td>26.0</td>\n",
              "      <td>0</td>\n",
              "      <td>0</td>\n",
              "      <td>STON/O2. 3101282</td>\n",
              "      <td>7.9250</td>\n",
              "      <td>NaN</td>\n",
              "      <td>S</td>\n",
              "      <td>Miss.</td>\n",
              "      <td>0</td>\n",
              "      <td>0</td>\n",
              "      <td>1</td>\n",
              "    </tr>\n",
              "    <tr>\n",
              "      <th>3</th>\n",
              "      <td>4</td>\n",
              "      <td>1</td>\n",
              "      <td>1</td>\n",
              "      <td>Futrelle, Mrs. Jacques Heath (Lily May Peel)</td>\n",
              "      <td>female</td>\n",
              "      <td>35.0</td>\n",
              "      <td>1</td>\n",
              "      <td>0</td>\n",
              "      <td>113803</td>\n",
              "      <td>53.1000</td>\n",
              "      <td>C123</td>\n",
              "      <td>S</td>\n",
              "      <td>Mrs.</td>\n",
              "      <td>0</td>\n",
              "      <td>0</td>\n",
              "      <td>0</td>\n",
              "    </tr>\n",
              "    <tr>\n",
              "      <th>4</th>\n",
              "      <td>5</td>\n",
              "      <td>0</td>\n",
              "      <td>3</td>\n",
              "      <td>Allen, Mr. William Henry</td>\n",
              "      <td>male</td>\n",
              "      <td>35.0</td>\n",
              "      <td>0</td>\n",
              "      <td>0</td>\n",
              "      <td>373450</td>\n",
              "      <td>8.0500</td>\n",
              "      <td>NaN</td>\n",
              "      <td>S</td>\n",
              "      <td>Mr.</td>\n",
              "      <td>0</td>\n",
              "      <td>0</td>\n",
              "      <td>1</td>\n",
              "    </tr>\n",
              "  </tbody>\n",
              "</table>\n",
              "</div>"
            ],
            "text/plain": [
              "   PassengerId  Survived  Pclass  ... MoreTwoSibSp isExp  isCheap\n",
              "0            1         0       3  ...            0     0        1\n",
              "1            2         1       1  ...            0     0        0\n",
              "2            3         1       3  ...            0     0        1\n",
              "3            4         1       1  ...            0     0        0\n",
              "4            5         0       3  ...            0     0        1\n",
              "\n",
              "[5 rows x 16 columns]"
            ]
          },
          "metadata": {},
          "execution_count": 627
        }
      ]
    },
    {
      "cell_type": "code",
      "metadata": {
        "id": "Xb0eh6M5JwLB"
      },
      "source": [
        "features = ['isFemale', 'Honorific', 'MoreTwoSibSp', 'isExp', 'isCheap', 'Pclass', 'Parch', 'SibSp']\n",
        "y = train_data['Survived']"
      ],
      "execution_count": 628,
      "outputs": []
    },
    {
      "cell_type": "code",
      "metadata": {
        "id": "qaWK8bihM9Uc"
      },
      "source": [
        "train_data['isFemale'] = (train_data['Sex']=='female').astype(int)"
      ],
      "execution_count": 629,
      "outputs": []
    },
    {
      "cell_type": "code",
      "metadata": {
        "id": "1DgGPAs2NtRK"
      },
      "source": [
        "x_train,x_test,y_train,y_test= train_test_split(train_data[features],y,test_size=0.3, random_state=10)"
      ],
      "execution_count": 648,
      "outputs": []
    },
    {
      "cell_type": "code",
      "metadata": {
        "id": "JLOAjZlEOeZv"
      },
      "source": [
        "x_train = pd.get_dummies(x_train)\n",
        "x_test = pd.get_dummies(x_test)"
      ],
      "execution_count": 649,
      "outputs": []
    },
    {
      "cell_type": "markdown",
      "metadata": {
        "id": "Nm7niJkYUEHQ"
      },
      "source": [
        "**Preparing test data for model**"
      ]
    },
    {
      "cell_type": "code",
      "metadata": {
        "id": "bcLed_KjUDr_"
      },
      "source": [
        "test_data['isFemale'] = (test_data['Sex']=='female').astype(int)\n",
        "test_data['isExp'] = (test_data['Fare']>250).astype(int)\n",
        "test_data['isCheap'] = (test_data['Fare']<10).astype(int)\n",
        "test_data['MoreTwoSibSp'] = (test_data['SibSp']>2).astype(int)"
      ],
      "execution_count": 632,
      "outputs": []
    },
    {
      "cell_type": "code",
      "metadata": {
        "id": "PtWtyznQUd65"
      },
      "source": [
        "names_list = list(test_data['Name'].values)\n",
        "\n",
        "names_list = [name.split() for name in names_list]\n",
        "honor_list = []\n",
        "honors = ['Mrs.','Mr.','Master.','Don.',\n",
        "          'Rev.','Dr.','Ms.','Major.',\n",
        "          'Col.', 'Miss.']\n",
        "\n",
        "for name in names_list:\n",
        "  tmp = 'NaN'\n",
        "  for part in name:\n",
        "    part.strip()\n",
        "    if part in honors:\n",
        "      tmp=part\n",
        "  honor_list.append(tmp)"
      ],
      "execution_count": 633,
      "outputs": []
    },
    {
      "cell_type": "code",
      "metadata": {
        "id": "1ocCXA9hUd66"
      },
      "source": [
        "honor_list = pd.DataFrame(honor_list)\n",
        "test_data['Honorific'] = honor_list"
      ],
      "execution_count": 634,
      "outputs": []
    },
    {
      "cell_type": "code",
      "metadata": {
        "colab": {
          "base_uri": "https://localhost:8080/",
          "height": 439
        },
        "id": "aHsHHNL5V2yb",
        "outputId": "074d43a7-a3d7-425d-aa43-f0293fe1a64c"
      },
      "source": [
        "test_data = pd.get_dummies(test_data[features])\n",
        "test_data"
      ],
      "execution_count": 635,
      "outputs": [
        {
          "output_type": "execute_result",
          "data": {
            "text/html": [
              "<div>\n",
              "<style scoped>\n",
              "    .dataframe tbody tr th:only-of-type {\n",
              "        vertical-align: middle;\n",
              "    }\n",
              "\n",
              "    .dataframe tbody tr th {\n",
              "        vertical-align: top;\n",
              "    }\n",
              "\n",
              "    .dataframe thead th {\n",
              "        text-align: right;\n",
              "    }\n",
              "</style>\n",
              "<table border=\"1\" class=\"dataframe\">\n",
              "  <thead>\n",
              "    <tr style=\"text-align: right;\">\n",
              "      <th></th>\n",
              "      <th>isFemale</th>\n",
              "      <th>MoreTwoSibSp</th>\n",
              "      <th>isExp</th>\n",
              "      <th>isCheap</th>\n",
              "      <th>Pclass</th>\n",
              "      <th>Parch</th>\n",
              "      <th>SibSp</th>\n",
              "      <th>Honorific_Col.</th>\n",
              "      <th>Honorific_Dr.</th>\n",
              "      <th>Honorific_Master.</th>\n",
              "      <th>Honorific_Miss.</th>\n",
              "      <th>Honorific_Mr.</th>\n",
              "      <th>Honorific_Mrs.</th>\n",
              "      <th>Honorific_Ms.</th>\n",
              "      <th>Honorific_NaN</th>\n",
              "      <th>Honorific_Rev.</th>\n",
              "    </tr>\n",
              "  </thead>\n",
              "  <tbody>\n",
              "    <tr>\n",
              "      <th>0</th>\n",
              "      <td>0</td>\n",
              "      <td>0</td>\n",
              "      <td>0</td>\n",
              "      <td>1</td>\n",
              "      <td>3</td>\n",
              "      <td>0</td>\n",
              "      <td>0</td>\n",
              "      <td>0</td>\n",
              "      <td>0</td>\n",
              "      <td>0</td>\n",
              "      <td>0</td>\n",
              "      <td>1</td>\n",
              "      <td>0</td>\n",
              "      <td>0</td>\n",
              "      <td>0</td>\n",
              "      <td>0</td>\n",
              "    </tr>\n",
              "    <tr>\n",
              "      <th>1</th>\n",
              "      <td>1</td>\n",
              "      <td>0</td>\n",
              "      <td>0</td>\n",
              "      <td>1</td>\n",
              "      <td>3</td>\n",
              "      <td>0</td>\n",
              "      <td>1</td>\n",
              "      <td>0</td>\n",
              "      <td>0</td>\n",
              "      <td>0</td>\n",
              "      <td>0</td>\n",
              "      <td>0</td>\n",
              "      <td>1</td>\n",
              "      <td>0</td>\n",
              "      <td>0</td>\n",
              "      <td>0</td>\n",
              "    </tr>\n",
              "    <tr>\n",
              "      <th>2</th>\n",
              "      <td>0</td>\n",
              "      <td>0</td>\n",
              "      <td>0</td>\n",
              "      <td>1</td>\n",
              "      <td>2</td>\n",
              "      <td>0</td>\n",
              "      <td>0</td>\n",
              "      <td>0</td>\n",
              "      <td>0</td>\n",
              "      <td>0</td>\n",
              "      <td>0</td>\n",
              "      <td>1</td>\n",
              "      <td>0</td>\n",
              "      <td>0</td>\n",
              "      <td>0</td>\n",
              "      <td>0</td>\n",
              "    </tr>\n",
              "    <tr>\n",
              "      <th>3</th>\n",
              "      <td>0</td>\n",
              "      <td>0</td>\n",
              "      <td>0</td>\n",
              "      <td>1</td>\n",
              "      <td>3</td>\n",
              "      <td>0</td>\n",
              "      <td>0</td>\n",
              "      <td>0</td>\n",
              "      <td>0</td>\n",
              "      <td>0</td>\n",
              "      <td>0</td>\n",
              "      <td>1</td>\n",
              "      <td>0</td>\n",
              "      <td>0</td>\n",
              "      <td>0</td>\n",
              "      <td>0</td>\n",
              "    </tr>\n",
              "    <tr>\n",
              "      <th>4</th>\n",
              "      <td>1</td>\n",
              "      <td>0</td>\n",
              "      <td>0</td>\n",
              "      <td>0</td>\n",
              "      <td>3</td>\n",
              "      <td>1</td>\n",
              "      <td>1</td>\n",
              "      <td>0</td>\n",
              "      <td>0</td>\n",
              "      <td>0</td>\n",
              "      <td>0</td>\n",
              "      <td>0</td>\n",
              "      <td>1</td>\n",
              "      <td>0</td>\n",
              "      <td>0</td>\n",
              "      <td>0</td>\n",
              "    </tr>\n",
              "    <tr>\n",
              "      <th>...</th>\n",
              "      <td>...</td>\n",
              "      <td>...</td>\n",
              "      <td>...</td>\n",
              "      <td>...</td>\n",
              "      <td>...</td>\n",
              "      <td>...</td>\n",
              "      <td>...</td>\n",
              "      <td>...</td>\n",
              "      <td>...</td>\n",
              "      <td>...</td>\n",
              "      <td>...</td>\n",
              "      <td>...</td>\n",
              "      <td>...</td>\n",
              "      <td>...</td>\n",
              "      <td>...</td>\n",
              "      <td>...</td>\n",
              "    </tr>\n",
              "    <tr>\n",
              "      <th>413</th>\n",
              "      <td>0</td>\n",
              "      <td>0</td>\n",
              "      <td>0</td>\n",
              "      <td>1</td>\n",
              "      <td>3</td>\n",
              "      <td>0</td>\n",
              "      <td>0</td>\n",
              "      <td>0</td>\n",
              "      <td>0</td>\n",
              "      <td>0</td>\n",
              "      <td>0</td>\n",
              "      <td>1</td>\n",
              "      <td>0</td>\n",
              "      <td>0</td>\n",
              "      <td>0</td>\n",
              "      <td>0</td>\n",
              "    </tr>\n",
              "    <tr>\n",
              "      <th>414</th>\n",
              "      <td>1</td>\n",
              "      <td>0</td>\n",
              "      <td>0</td>\n",
              "      <td>0</td>\n",
              "      <td>1</td>\n",
              "      <td>0</td>\n",
              "      <td>0</td>\n",
              "      <td>0</td>\n",
              "      <td>0</td>\n",
              "      <td>0</td>\n",
              "      <td>0</td>\n",
              "      <td>0</td>\n",
              "      <td>0</td>\n",
              "      <td>0</td>\n",
              "      <td>1</td>\n",
              "      <td>0</td>\n",
              "    </tr>\n",
              "    <tr>\n",
              "      <th>415</th>\n",
              "      <td>0</td>\n",
              "      <td>0</td>\n",
              "      <td>0</td>\n",
              "      <td>1</td>\n",
              "      <td>3</td>\n",
              "      <td>0</td>\n",
              "      <td>0</td>\n",
              "      <td>0</td>\n",
              "      <td>0</td>\n",
              "      <td>0</td>\n",
              "      <td>0</td>\n",
              "      <td>1</td>\n",
              "      <td>0</td>\n",
              "      <td>0</td>\n",
              "      <td>0</td>\n",
              "      <td>0</td>\n",
              "    </tr>\n",
              "    <tr>\n",
              "      <th>416</th>\n",
              "      <td>0</td>\n",
              "      <td>0</td>\n",
              "      <td>0</td>\n",
              "      <td>1</td>\n",
              "      <td>3</td>\n",
              "      <td>0</td>\n",
              "      <td>0</td>\n",
              "      <td>0</td>\n",
              "      <td>0</td>\n",
              "      <td>0</td>\n",
              "      <td>0</td>\n",
              "      <td>1</td>\n",
              "      <td>0</td>\n",
              "      <td>0</td>\n",
              "      <td>0</td>\n",
              "      <td>0</td>\n",
              "    </tr>\n",
              "    <tr>\n",
              "      <th>417</th>\n",
              "      <td>0</td>\n",
              "      <td>0</td>\n",
              "      <td>0</td>\n",
              "      <td>0</td>\n",
              "      <td>3</td>\n",
              "      <td>1</td>\n",
              "      <td>1</td>\n",
              "      <td>0</td>\n",
              "      <td>0</td>\n",
              "      <td>1</td>\n",
              "      <td>0</td>\n",
              "      <td>0</td>\n",
              "      <td>0</td>\n",
              "      <td>0</td>\n",
              "      <td>0</td>\n",
              "      <td>0</td>\n",
              "    </tr>\n",
              "  </tbody>\n",
              "</table>\n",
              "<p>418 rows × 16 columns</p>\n",
              "</div>"
            ],
            "text/plain": [
              "     isFemale  MoreTwoSibSp  ...  Honorific_NaN  Honorific_Rev.\n",
              "0           0             0  ...              0               0\n",
              "1           1             0  ...              0               0\n",
              "2           0             0  ...              0               0\n",
              "3           0             0  ...              0               0\n",
              "4           1             0  ...              0               0\n",
              "..        ...           ...  ...            ...             ...\n",
              "413         0             0  ...              0               0\n",
              "414         1             0  ...              1               0\n",
              "415         0             0  ...              0               0\n",
              "416         0             0  ...              0               0\n",
              "417         0             0  ...              0               0\n",
              "\n",
              "[418 rows x 16 columns]"
            ]
          },
          "metadata": {},
          "execution_count": 635
        }
      ]
    },
    {
      "cell_type": "markdown",
      "metadata": {
        "id": "_K-ZXvbdHVYG"
      },
      "source": [
        "**Setting up model**"
      ]
    },
    {
      "cell_type": "code",
      "metadata": {
        "id": "Fx5334lKHcap"
      },
      "source": [
        "#11 estm\n",
        "#True warm\n",
        "#depth 4\n",
        "#3 rns st\n",
        "#2 jobs\n",
        "error = []\n",
        "params = {\n",
        "          'n_jobs' : range(1,30),\n",
        "          }"
      ],
      "execution_count": 636,
      "outputs": []
    },
    {
      "cell_type": "code",
      "metadata": {
        "colab": {
          "base_uri": "https://localhost:8080/"
        },
        "id": "RlzB1-a-Z3ZT",
        "outputId": "8ab9413a-1a01-4742-e1bd-5849fa4fd17b"
      },
      "source": [
        "x_train.info()"
      ],
      "execution_count": 650,
      "outputs": [
        {
          "output_type": "stream",
          "name": "stdout",
          "text": [
            "<class 'pandas.core.frame.DataFrame'>\n",
            "Int64Index: 623 entries, 7 to 265\n",
            "Data columns (total 16 columns):\n",
            " #   Column             Non-Null Count  Dtype\n",
            "---  ------             --------------  -----\n",
            " 0   isFemale           623 non-null    int64\n",
            " 1   MoreTwoSibSp       623 non-null    int64\n",
            " 2   isExp              623 non-null    int64\n",
            " 3   isCheap            623 non-null    int64\n",
            " 4   Pclass             623 non-null    int64\n",
            " 5   Parch              623 non-null    int64\n",
            " 6   SibSp              623 non-null    int64\n",
            " 7   Honorific_Col.     623 non-null    uint8\n",
            " 8   Honorific_Dr.      623 non-null    uint8\n",
            " 9   Honorific_Master.  623 non-null    uint8\n",
            " 10  Honorific_Miss.    623 non-null    uint8\n",
            " 11  Honorific_Mr.      623 non-null    uint8\n",
            " 12  Honorific_Mrs.     623 non-null    uint8\n",
            " 13  Honorific_Ms.      623 non-null    uint8\n",
            " 14  Honorific_NaN      623 non-null    uint8\n",
            " 15  Honorific_Rev.     623 non-null    uint8\n",
            "dtypes: int64(7), uint8(9)\n",
            "memory usage: 44.4 KB\n"
          ]
        }
      ]
    },
    {
      "cell_type": "code",
      "metadata": {
        "colab": {
          "base_uri": "https://localhost:8080/"
        },
        "id": "FusZooojZ7-j",
        "outputId": "9ffa418a-8f4d-440e-e165-9150dee6e7d8"
      },
      "source": [
        "test_data.info()"
      ],
      "execution_count": 651,
      "outputs": [
        {
          "output_type": "stream",
          "name": "stdout",
          "text": [
            "<class 'pandas.core.frame.DataFrame'>\n",
            "RangeIndex: 418 entries, 0 to 417\n",
            "Data columns (total 16 columns):\n",
            " #   Column             Non-Null Count  Dtype\n",
            "---  ------             --------------  -----\n",
            " 0   isFemale           418 non-null    int64\n",
            " 1   MoreTwoSibSp       418 non-null    int64\n",
            " 2   isExp              418 non-null    int64\n",
            " 3   isCheap            418 non-null    int64\n",
            " 4   Pclass             418 non-null    int64\n",
            " 5   Parch              418 non-null    int64\n",
            " 6   SibSp              418 non-null    int64\n",
            " 7   Honorific_Col.     418 non-null    uint8\n",
            " 8   Honorific_Dr.      418 non-null    uint8\n",
            " 9   Honorific_Master.  418 non-null    uint8\n",
            " 10  Honorific_Miss.    418 non-null    uint8\n",
            " 11  Honorific_Mr.      418 non-null    uint8\n",
            " 12  Honorific_Mrs.     418 non-null    uint8\n",
            " 13  Honorific_Ms.      418 non-null    uint8\n",
            " 14  Honorific_NaN      418 non-null    uint8\n",
            " 15  Honorific_Rev.     418 non-null    uint8\n",
            "dtypes: int64(7), uint8(9)\n",
            "memory usage: 26.7 KB\n"
          ]
        }
      ]
    },
    {
      "cell_type": "code",
      "metadata": {
        "colab": {
          "base_uri": "https://localhost:8080/",
          "height": 374
        },
        "id": "2bx98iSkHqcM",
        "outputId": "4aad7c51-2433-46ba-cbef-3873bc8dbc6d"
      },
      "source": [
        "model = RandomForestClassifier(n_estimators=3,warm_start=True,max_depth=7,random_state=1,n_jobs=45, min_samples_leaf=125)\n",
        "model.fit(x_train,y_train)\n",
        "pred = model.predict(x_test)\n",
        "accuracy_score(y_test,pred)"
      ],
      "execution_count": 657,
      "outputs": [
        {
          "output_type": "error",
          "ename": "ValueError",
          "evalue": "ignored",
          "traceback": [
            "\u001b[0;31m---------------------------------------------------------------------------\u001b[0m",
            "\u001b[0;31mValueError\u001b[0m                                Traceback (most recent call last)",
            "\u001b[0;32m<ipython-input-657-6cee6bac725d>\u001b[0m in \u001b[0;36m<module>\u001b[0;34m()\u001b[0m\n\u001b[1;32m      1\u001b[0m \u001b[0mmodel\u001b[0m \u001b[0;34m=\u001b[0m \u001b[0mRandomForestClassifier\u001b[0m\u001b[0;34m(\u001b[0m\u001b[0mn_estimators\u001b[0m\u001b[0;34m=\u001b[0m\u001b[0;36m3\u001b[0m\u001b[0;34m,\u001b[0m\u001b[0mwarm_start\u001b[0m\u001b[0;34m=\u001b[0m\u001b[0;32mTrue\u001b[0m\u001b[0;34m,\u001b[0m\u001b[0mmax_depth\u001b[0m\u001b[0;34m=\u001b[0m\u001b[0;36m7\u001b[0m\u001b[0;34m,\u001b[0m\u001b[0mrandom_state\u001b[0m\u001b[0;34m=\u001b[0m\u001b[0;36m1\u001b[0m\u001b[0;34m,\u001b[0m\u001b[0mn_jobs\u001b[0m\u001b[0;34m=\u001b[0m\u001b[0;36m45\u001b[0m\u001b[0;34m,\u001b[0m \u001b[0mmin_samples_leaf\u001b[0m\u001b[0;34m=\u001b[0m\u001b[0;36m125\u001b[0m\u001b[0;34m)\u001b[0m\u001b[0;34m\u001b[0m\u001b[0;34m\u001b[0m\u001b[0m\n\u001b[1;32m      2\u001b[0m \u001b[0mmodel\u001b[0m\u001b[0;34m.\u001b[0m\u001b[0mfit\u001b[0m\u001b[0;34m(\u001b[0m\u001b[0mx_train\u001b[0m\u001b[0;34m,\u001b[0m\u001b[0my_train\u001b[0m\u001b[0;34m)\u001b[0m\u001b[0;34m\u001b[0m\u001b[0;34m\u001b[0m\u001b[0m\n\u001b[0;32m----> 3\u001b[0;31m \u001b[0mpred\u001b[0m \u001b[0;34m=\u001b[0m \u001b[0mmodel\u001b[0m\u001b[0;34m.\u001b[0m\u001b[0mpredict\u001b[0m\u001b[0;34m(\u001b[0m\u001b[0mx_test\u001b[0m\u001b[0;34m)\u001b[0m\u001b[0;34m\u001b[0m\u001b[0;34m\u001b[0m\u001b[0m\n\u001b[0m\u001b[1;32m      4\u001b[0m \u001b[0maccuracy_score\u001b[0m\u001b[0;34m(\u001b[0m\u001b[0my_test\u001b[0m\u001b[0;34m,\u001b[0m\u001b[0mpred\u001b[0m\u001b[0;34m)\u001b[0m\u001b[0;34m\u001b[0m\u001b[0;34m\u001b[0m\u001b[0m\n",
            "\u001b[0;32m/usr/local/lib/python3.7/dist-packages/sklearn/ensemble/_forest.py\u001b[0m in \u001b[0;36mpredict\u001b[0;34m(self, X)\u001b[0m\n\u001b[1;32m    610\u001b[0m             \u001b[0mThe\u001b[0m \u001b[0mpredicted\u001b[0m \u001b[0mclasses\u001b[0m\u001b[0;34m.\u001b[0m\u001b[0;34m\u001b[0m\u001b[0;34m\u001b[0m\u001b[0m\n\u001b[1;32m    611\u001b[0m         \"\"\"\n\u001b[0;32m--> 612\u001b[0;31m         \u001b[0mproba\u001b[0m \u001b[0;34m=\u001b[0m \u001b[0mself\u001b[0m\u001b[0;34m.\u001b[0m\u001b[0mpredict_proba\u001b[0m\u001b[0;34m(\u001b[0m\u001b[0mX\u001b[0m\u001b[0;34m)\u001b[0m\u001b[0;34m\u001b[0m\u001b[0;34m\u001b[0m\u001b[0m\n\u001b[0m\u001b[1;32m    613\u001b[0m \u001b[0;34m\u001b[0m\u001b[0m\n\u001b[1;32m    614\u001b[0m         \u001b[0;32mif\u001b[0m \u001b[0mself\u001b[0m\u001b[0;34m.\u001b[0m\u001b[0mn_outputs_\u001b[0m \u001b[0;34m==\u001b[0m \u001b[0;36m1\u001b[0m\u001b[0;34m:\u001b[0m\u001b[0;34m\u001b[0m\u001b[0;34m\u001b[0m\u001b[0m\n",
            "\u001b[0;32m/usr/local/lib/python3.7/dist-packages/sklearn/ensemble/_forest.py\u001b[0m in \u001b[0;36mpredict_proba\u001b[0;34m(self, X)\u001b[0m\n\u001b[1;32m    654\u001b[0m         \u001b[0mcheck_is_fitted\u001b[0m\u001b[0;34m(\u001b[0m\u001b[0mself\u001b[0m\u001b[0;34m)\u001b[0m\u001b[0;34m\u001b[0m\u001b[0;34m\u001b[0m\u001b[0m\n\u001b[1;32m    655\u001b[0m         \u001b[0;31m# Check data\u001b[0m\u001b[0;34m\u001b[0m\u001b[0;34m\u001b[0m\u001b[0;34m\u001b[0m\u001b[0m\n\u001b[0;32m--> 656\u001b[0;31m         \u001b[0mX\u001b[0m \u001b[0;34m=\u001b[0m \u001b[0mself\u001b[0m\u001b[0;34m.\u001b[0m\u001b[0m_validate_X_predict\u001b[0m\u001b[0;34m(\u001b[0m\u001b[0mX\u001b[0m\u001b[0;34m)\u001b[0m\u001b[0;34m\u001b[0m\u001b[0;34m\u001b[0m\u001b[0m\n\u001b[0m\u001b[1;32m    657\u001b[0m \u001b[0;34m\u001b[0m\u001b[0m\n\u001b[1;32m    658\u001b[0m         \u001b[0;31m# Assign chunk of trees to jobs\u001b[0m\u001b[0;34m\u001b[0m\u001b[0;34m\u001b[0m\u001b[0;34m\u001b[0m\u001b[0m\n",
            "\u001b[0;32m/usr/local/lib/python3.7/dist-packages/sklearn/ensemble/_forest.py\u001b[0m in \u001b[0;36m_validate_X_predict\u001b[0;34m(self, X)\u001b[0m\n\u001b[1;32m    410\u001b[0m         \u001b[0mcheck_is_fitted\u001b[0m\u001b[0;34m(\u001b[0m\u001b[0mself\u001b[0m\u001b[0;34m)\u001b[0m\u001b[0;34m\u001b[0m\u001b[0;34m\u001b[0m\u001b[0m\n\u001b[1;32m    411\u001b[0m \u001b[0;34m\u001b[0m\u001b[0m\n\u001b[0;32m--> 412\u001b[0;31m         \u001b[0;32mreturn\u001b[0m \u001b[0mself\u001b[0m\u001b[0;34m.\u001b[0m\u001b[0mestimators_\u001b[0m\u001b[0;34m[\u001b[0m\u001b[0;36m0\u001b[0m\u001b[0;34m]\u001b[0m\u001b[0;34m.\u001b[0m\u001b[0m_validate_X_predict\u001b[0m\u001b[0;34m(\u001b[0m\u001b[0mX\u001b[0m\u001b[0;34m,\u001b[0m \u001b[0mcheck_input\u001b[0m\u001b[0;34m=\u001b[0m\u001b[0;32mTrue\u001b[0m\u001b[0;34m)\u001b[0m\u001b[0;34m\u001b[0m\u001b[0;34m\u001b[0m\u001b[0m\n\u001b[0m\u001b[1;32m    413\u001b[0m \u001b[0;34m\u001b[0m\u001b[0m\n\u001b[1;32m    414\u001b[0m     \u001b[0;34m@\u001b[0m\u001b[0mproperty\u001b[0m\u001b[0;34m\u001b[0m\u001b[0;34m\u001b[0m\u001b[0m\n",
            "\u001b[0;32m/usr/local/lib/python3.7/dist-packages/sklearn/tree/_classes.py\u001b[0m in \u001b[0;36m_validate_X_predict\u001b[0;34m(self, X, check_input)\u001b[0m\n\u001b[1;32m    389\u001b[0m                              \u001b[0;34m\"match the input. Model n_features is %s and \"\u001b[0m\u001b[0;34m\u001b[0m\u001b[0;34m\u001b[0m\u001b[0m\n\u001b[1;32m    390\u001b[0m                              \u001b[0;34m\"input n_features is %s \"\u001b[0m\u001b[0;34m\u001b[0m\u001b[0;34m\u001b[0m\u001b[0m\n\u001b[0;32m--> 391\u001b[0;31m                              % (self.n_features_, n_features))\n\u001b[0m\u001b[1;32m    392\u001b[0m \u001b[0;34m\u001b[0m\u001b[0m\n\u001b[1;32m    393\u001b[0m         \u001b[0;32mreturn\u001b[0m \u001b[0mX\u001b[0m\u001b[0;34m\u001b[0m\u001b[0;34m\u001b[0m\u001b[0m\n",
            "\u001b[0;31mValueError\u001b[0m: Number of features of the model must match the input. Model n_features is 16 and input n_features is 17 "
          ]
        }
      ]
    },
    {
      "cell_type": "code",
      "metadata": {
        "id": "Qptuy4a9NRyu"
      },
      "source": [
        "output = pd.DataFrame(\n",
        "    {\n",
        "        'PassengerID': test_data.PassengerId,\n",
        "        'Survived': pred\n",
        "    }\n",
        ").to_csv('submissions.csv', index=False)"
      ],
      "execution_count": 655,
      "outputs": []
    },
    {
      "cell_type": "markdown",
      "metadata": {
        "id": "9uHy5E1YLQwd"
      },
      "source": [
        "##Note just for me##\n",
        "<br>\n",
        "Check the 'Embarked' label\n"
      ]
    }
  ]
}